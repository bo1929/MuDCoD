{
 "cells": [
  {
   "cell_type": "code",
   "execution_count": 1,
   "id": "1feaf01f-17f2-4500-a726-7ffbbdce540e",
   "metadata": {},
   "outputs": [],
   "source": [
    "import yaml\n",
    "import numpy as np\n",
    "import seaborn as sns\n",
    "import matplotlib.pyplot as plt\n",
    "from sklearn.metrics.cluster import adjusted_rand_score\n",
    "from sklearn.metrics.cluster import homogeneity_score\n",
    "from sklearn.metrics.cluster import completeness_score\n",
    "from sklearn.metrics.cluster import mutual_info_score\n",
    "from sklearn.metrics.cluster import normalized_mutual_info_score\n",
    "from sklearn.metrics.cluster import adjusted_mutual_info_score\n",
    "from sklearn.metrics.cluster import fowlkes_mallows_score\n",
    "cmetric = mutual_info_score\n",
    "from sklearn.metrics import confusion_matrix"
   ]
  },
  {
   "cell_type": "code",
   "execution_count": 2,
   "id": "fd0bcf02-ae72-406c-b6fd-b888a2c785c9",
   "metadata": {},
   "outputs": [],
   "source": [
    "pred_communities = np.load(\"../results/Epen1/p95/pred_communities.npy\").astype(int)\n",
    "with open(\"../data/cell-type-specific/Epen1-networks/adj/p95/msdyn_nw_details.yaml\", \"r\") as outfile:\n",
    "    msdyn_nw_details = yaml.load(outfile, Loader=yaml.SafeLoader)"
   ]
  },
  {
   "cell_type": "code",
   "execution_count": 3,
   "id": "bfad0a2e-d88d-4670-a2c9-8c203767875b",
   "metadata": {},
   "outputs": [],
   "source": [
    "donor_idx_keys = sorted(msdyn_nw_details[\"donor_indices\"].keys())"
   ]
  },
  {
   "cell_type": "code",
   "execution_count": 4,
   "id": "6911ce12-b46b-4c55-87d3-fa4295849c58",
   "metadata": {},
   "outputs": [
    {
     "data": {
      "text/plain": [
       "(8, 2, 2475)"
      ]
     },
     "execution_count": 4,
     "metadata": {},
     "output_type": "execute_result"
    }
   ],
   "source": [
    "pred_communities.shape"
   ]
  },
  {
   "cell_type": "code",
   "execution_count": 5,
   "id": "0f27dc30-478a-43a3-9f95-27d60467ffdb",
   "metadata": {},
   "outputs": [],
   "source": [
    "uniq, uniq_counts = np.unique(pred_communities[0,0,:], return_counts=True)"
   ]
  },
  {
   "cell_type": "markdown",
   "id": "38728ffd-d82c-4058-8bc0-431267fc1a87",
   "metadata": {
    "tags": []
   },
   "source": [
    "for i in range(pred_communities.shape[0]):\n",
    "    fig, axes = plt.subplots(nrows=1, ncols=2, figsize=(32,8))\n",
    "    axes[0].set_title(\"time step 1\")\n",
    "    axes[1].set_title(\"time step 2\")\n",
    "    axes[0].set_xticklabels(axes[0].get_xticklabels(), rotation = 90)\n",
    "    axes[1].set_xticklabels(axes[1].get_xticklabels(), rotation = 90)\n",
    "    sns.countplot(pred_communities[i,0,:], palette=\"tab20\", ax=axes[0])\n",
    "    sns.countplot(pred_communities[i,1,:], palette=\"tab20\", ax=axes[1])\n",
    "    donor_name = msdyn_nw_details[\"donor_indices\"][donor_idx_keys[i]]\n",
    "    plt.suptitle(f\"Subject-{donor_name}\")"
   ]
  },
  {
   "cell_type": "raw",
   "id": "03ceef02-3e19-4e2b-b6fc-34eacbf97de6",
   "metadata": {},
   "source": [
    "HPSI0114i-eipl_1: 0.01287834972\n",
    "HPSI0115i-aoxv_1: 0.2212521826\n",
    "HPSI0115i-timk_4: 0.04200897773\n",
    "HPSI0414i-mita_1: NaN\n",
    "HPSI0514i-fiaj_1: 0.06109600101\n",
    "HPSI0714i-keui_4: 0.06964129484\n",
    "HPSI0715i-aowh_2: 0.6208232953\n",
    "HPSI1013i-hiaf_1: 0.4662173557"
   ]
  },
  {
   "cell_type": "code",
   "execution_count": 6,
   "id": "652b24d4-1a4e-4b7f-a5fc-b649204ca3c6",
   "metadata": {},
   "outputs": [
    {
     "name": "stdout",
     "output_type": "stream",
     "text": [
      "ARI of time step 1 and time step 2 for HPSI0114i-eipl_1 is 0.626\n",
      "ARI of time step 1 and time step 2 for HPSI0115i-aoxv_1 is 0.528\n",
      "ARI of time step 1 and time step 2 for HPSI0115i-timk_4 is 0.629\n",
      "ARI of time step 1 and time step 2 for HPSI0414i-mita_1 is 0.705\n",
      "ARI of time step 1 and time step 2 for HPSI0514i-fiaj_1 is 0.687\n",
      "ARI of time step 1 and time step 2 for HPSI0714i-keui_4 is 0.557\n",
      "ARI of time step 1 and time step 2 for HPSI0715i-aowh_2 is 0.537\n",
      "ARI of time step 1 and time step 2 for HPSI1013i-hiaf_1 is 0.575\n"
     ]
    }
   ],
   "source": [
    "sum_t = 0\n",
    "for i in range(pred_communities.shape[0]):\n",
    "    ari = cmetric(pred_communities[i,0,:],pred_communities[i,1,:])\n",
    "    donor_name = msdyn_nw_details[\"donor_indices\"][donor_idx_keys[i]]\n",
    "    print(f\"ARI of time step 1 and time step 2 for {donor_name} is {round(ari,3)}\")\n",
    "    sum_t += ari"
   ]
  },
  {
   "cell_type": "code",
   "execution_count": 7,
   "id": "d14d2e2e-f89e-4565-a92b-d2cfb77682be",
   "metadata": {},
   "outputs": [
    {
     "data": {
      "text/plain": [
       "0.605462295454815"
      ]
     },
     "execution_count": 7,
     "metadata": {},
     "output_type": "execute_result"
    }
   ],
   "source": [
    "sum_t/pred_communities.shape[0]"
   ]
  },
  {
   "cell_type": "raw",
   "id": "5014f499-feda-411e-aa94-d39f67960b5d",
   "metadata": {},
   "source": [
    "HPSI0114i-eipl_1: 0.01287834972\n",
    "HPSI0115i-aoxv_1: 0.2212521826\n",
    "HPSI0115i-timk_4: 0.04200897773\n",
    "HPSI0414i-mita_1: \n",
    "HPSI0514i-fiaj_1: 0.06109600101\n",
    "HPSI0714i-keui_4: 0.06964129484\n",
    "HPSI0715i-aowh_2: 0.6208232953\n",
    "HPSI1013i-hiaf_1: 0.4662173557"
   ]
  },
  {
   "cell_type": "code",
   "execution_count": 9,
   "id": "61311e99-3979-4b10-bba7-4c47908645f9",
   "metadata": {
    "tags": []
   },
   "outputs": [],
   "source": [
    "sum1 = 0\n",
    "sum2 = 0\n",
    "measure_sbj_dict = {}\n",
    "for i in range(pred_communities.shape[0]):\n",
    "    donor_name_i = msdyn_nw_details[\"donor_indices\"][donor_idx_keys[i]]\n",
    "    measure_sbj_dict[donor_name_i] = {}\n",
    "    \n",
    "    for j in range(pred_communities.shape[0]):\n",
    "        ari1 = cmetric(pred_communities[i,0,:],pred_communities[j,0,:])\n",
    "        donor_name_j = msdyn_nw_details[\"donor_indices\"][donor_idx_keys[j]]\n",
    "        #print(f\"ARI of {donor_name_i} and {donor_name_j} is {round(ari1,3)} at time step 1\")\n",
    "        ari2 = cmetric(pred_communities[i,1,:],pred_communities[j,1,:])\n",
    "        #print(f\"ARI of {donor_name_i} and {donor_name_j} is {round(ari2,3)} at time step 2\")\n",
    "        if i!=j:\n",
    "            sum1 += ari1\n",
    "            sum2 += ari2\n",
    "            measure_sbj_dict[donor_name_i][donor_name_j] = {1: ari1, 2:ari2}"
   ]
  },
  {
   "cell_type": "raw",
   "id": "8765f825-1e3f-462b-962d-70188c83e022",
   "metadata": {},
   "source": [
    "HPSI0114i-eipl_1: 0.01287834972\n",
    "HPSI0115i-aoxv_1: 0.2212521826\n",
    "HPSI0115i-timk_4: 0.04200897773\n",
    "HPSI0414i-mita_1: \n",
    "HPSI0514i-fiaj_1: 0.06109600101\n",
    "HPSI0714i-keui_4: 0.06964129484\n",
    "HPSI0715i-aowh_2: 0.6208232953\n",
    "HPSI1013i-hiaf_1: 0.4662173557"
   ]
  },
  {
   "cell_type": "code",
   "execution_count": 10,
   "id": "9d0a1ba7-c565-4d35-97fe-abb018bb3026",
   "metadata": {},
   "outputs": [],
   "source": [
    "low_diff = [\"HPSI0714i-keui_4\", \"HPSI0514i-fiaj_1\", \"HPSI0115i-timk_4\", \"HPSI0114i-eipl_1\"]\n",
    "high_diff = [\"HPSI0715i-aowh_2\", \"HPSI1013i-hiaf_1\", \"HPSI0115i-aoxv_1\"]"
   ]
  },
  {
   "cell_type": "code",
   "execution_count": 11,
   "id": "2e4a8c3f-a58d-4dc0-be6a-4ce28e7fba0d",
   "metadata": {
    "tags": []
   },
   "outputs": [
    {
     "name": "stdout",
     "output_type": "stream",
     "text": [
      "FOR LOW, both time step:\n",
      "\n",
      "low: HPSI0714i-keui_4 0.7320587888416253\n",
      "high: HPSI0714i-keui_4 0.6117928076801781\n",
      "\n",
      "\n",
      "low: HPSI0514i-fiaj_1 0.7779282986256918\n",
      "high: HPSI0514i-fiaj_1 0.6312742735440886\n",
      "\n",
      "\n",
      "low: HPSI0115i-timk_4 0.7744045948958217\n",
      "high: HPSI0115i-timk_4 0.6665193271474503\n",
      "\n",
      "\n",
      "low: HPSI0114i-eipl_1 0.7016751045441405\n",
      "high: HPSI0114i-eipl_1 0.5683151451166544\n",
      "\n",
      "\n",
      "AVG LOW: 0.7465166967268198\n",
      "AVG HIGH: 0.6194753883720929\n"
     ]
    }
   ],
   "source": [
    "print(\"FOR LOW, both time step:\\n\")\n",
    "sum_all_high = 0\n",
    "sum_all_low = 0\n",
    "\n",
    "low_low_dict = {}\n",
    "low_high_dict = {}\n",
    "for low_key_i in low_diff:\n",
    "    sum_low = 0\n",
    "    for low_key_j in low_diff:\n",
    "        if low_key_j != low_key_i:\n",
    "            sum_low += (measure_sbj_dict[low_key_i][low_key_j][1] + measure_sbj_dict[low_key_i][low_key_j][2]) / (len(2*low_diff)  -2)\n",
    "    print(\"low:\", low_key_i, sum_low)\n",
    "    low_low_dict[low_key_i] = sum_low\n",
    "    sum_all_low += sum_low\n",
    "    sum_high = 0\n",
    "    for high_key_j in high_diff:\n",
    "        sum_high += (measure_sbj_dict[low_key_i][high_key_j][1] + measure_sbj_dict[low_key_i][high_key_j][2]) / len(2*high_diff)\n",
    "    print(\"high:\", low_key_i, sum_high)\n",
    "    low_high_dict[low_key_i] = sum_high\n",
    "    sum_all_high += sum_high\n",
    "    print(\"\\n\")\n",
    "print(\"AVG LOW:\", sum_all_low/len(low_diff))\n",
    "print(\"AVG HIGH:\", sum_all_high/len(low_diff))"
   ]
  },
  {
   "cell_type": "code",
   "execution_count": 12,
   "id": "b82658da-67f8-4026-8dca-2948639f677f",
   "metadata": {
    "jupyter": {
     "source_hidden": true
    },
    "tags": []
   },
   "outputs": [
    {
     "name": "stdout",
     "output_type": "stream",
     "text": [
      "FOR LOW, time step 1:\n",
      "\n",
      "low: HPSI0714i-keui_4 0.7067559538557533\n",
      "high: HPSI0714i-keui_4 0.5919228643815309\n",
      "\n",
      "\n",
      "low: HPSI0514i-fiaj_1 0.7256967184233634\n",
      "high: HPSI0514i-fiaj_1 0.618357049118847\n",
      "\n",
      "\n",
      "low: HPSI0115i-timk_4 0.7958418192580058\n",
      "high: HPSI0115i-timk_4 0.7122105840085946\n",
      "\n",
      "\n",
      "low: HPSI0114i-eipl_1 0.7217429949603349\n",
      "high: HPSI0114i-eipl_1 0.6087758150629198\n",
      "\n",
      "\n",
      "AVG LOW: 0.7375093716243644\n",
      "AVG HIGH: 0.6328165781429731\n"
     ]
    }
   ],
   "source": [
    "print(\"FOR LOW, time step 1:\\n\")\n",
    "sum_all_high = 0\n",
    "sum_all_low = 0\n",
    "for low_key_i in low_diff:\n",
    "    sum_low = 0\n",
    "    for low_key_j in low_diff:\n",
    "        if low_key_j != low_key_i:\n",
    "            sum_low += (measure_sbj_dict[low_key_i][low_key_j][1]) / (len(low_diff)-1)\n",
    "    print(\"low:\", low_key_i, sum_low)\n",
    "    sum_all_low += sum_low\n",
    "    sum_high = 0\n",
    "    for high_key_j in high_diff:\n",
    "        sum_high += (measure_sbj_dict[low_key_i][high_key_j][1]) / len(high_diff)\n",
    "    print(\"high:\", low_key_i, sum_high)\n",
    "    sum_all_high += sum_high\n",
    "    print(\"\\n\")\n",
    "print(\"AVG LOW:\", sum_all_low/len(low_diff))\n",
    "print(\"AVG HIGH:\", sum_all_high/len(low_diff))"
   ]
  },
  {
   "cell_type": "code",
   "execution_count": 13,
   "id": "67820105-4887-4f0c-b651-0c254799e80e",
   "metadata": {
    "jupyter": {
     "source_hidden": true
    },
    "tags": []
   },
   "outputs": [
    {
     "name": "stdout",
     "output_type": "stream",
     "text": [
      "FOR LOW, time step 2:\n",
      "\n",
      "low: HPSI0714i-keui_4 0.7573616238274973\n",
      "high: HPSI0714i-keui_4 0.6316627509788254\n",
      "\n",
      "\n",
      "low: HPSI0514i-fiaj_1 0.8301598788280202\n",
      "high: HPSI0514i-fiaj_1 0.6441914979693302\n",
      "\n",
      "\n",
      "low: HPSI0115i-timk_4 0.7529673705336376\n",
      "high: HPSI0115i-timk_4 0.620828070286306\n",
      "\n",
      "\n",
      "low: HPSI0114i-eipl_1 0.681607214127946\n",
      "high: HPSI0114i-eipl_1 0.5278544751703891\n",
      "\n",
      "\n",
      "AVG LOW: 0.7555240218292752\n",
      "AVG HIGH: 0.6061341986012128\n"
     ]
    }
   ],
   "source": [
    "print(\"FOR LOW, time step 2:\\n\")\n",
    "sum_all_high = 0\n",
    "sum_all_low = 0\n",
    "for low_key_i in low_diff:\n",
    "    sum_low = 0\n",
    "    for low_key_j in low_diff:\n",
    "        if low_key_j != low_key_i:\n",
    "            sum_low += (measure_sbj_dict[low_key_i][low_key_j][2]) / (len(low_diff)  -1)\n",
    "    print(\"low:\", low_key_i, sum_low)\n",
    "    sum_all_low += sum_low\n",
    "    sum_high = 0\n",
    "    for high_key_j in high_diff:\n",
    "        sum_high += (measure_sbj_dict[low_key_i][high_key_j][2]) / len(high_diff)\n",
    "    print(\"high:\", low_key_i, sum_high)\n",
    "    sum_all_high += sum_high\n",
    "    print(\"\\n\")\n",
    "print(\"AVG LOW:\", sum_all_low/len(low_diff))\n",
    "print(\"AVG HIGH:\", sum_all_high/len(low_diff))"
   ]
  },
  {
   "cell_type": "code",
   "execution_count": 14,
   "id": "6c8c07de-0275-4f64-83a9-bb40ff76bb98",
   "metadata": {
    "tags": []
   },
   "outputs": [
    {
     "name": "stdout",
     "output_type": "stream",
     "text": [
      "FOR HIGH, both time step:\n",
      "\n",
      "low: HPSI0114i-eipl_1 0.6063892083142827\n",
      "high: HPSI0114i-eipl_1 0.7007436769353502\n",
      "\n",
      "\n",
      "low: HPSI0114i-eipl_1 0.6176118641977177\n",
      "high: HPSI0114i-eipl_1 0.6774577715390029\n",
      "\n",
      "\n",
      "low: HPSI0114i-eipl_1 0.6344250926042783\n",
      "high: HPSI0114i-eipl_1 0.7117834728618443\n",
      "\n",
      "\n",
      "AVG LOW: 0.6194753883720928\n",
      "AVG HIGH: 0.6966616404453991\n"
     ]
    }
   ],
   "source": [
    "print(\"FOR HIGH, both time step:\\n\")\n",
    "sum_all_high = 0\n",
    "sum_all_low = 0\n",
    "high_high_dict = {}\n",
    "high_low_dict = {}\n",
    "for high_key_i in high_diff:\n",
    "    sum_low = 0\n",
    "    for low_key_j in low_diff:\n",
    "        sum_low += (measure_sbj_dict[high_key_i][low_key_j][1] + measure_sbj_dict[high_key_i][low_key_j][2]) / len(2*low_diff)  \n",
    "    print(\"low:\", low_key_i, sum_low)\n",
    "    sum_all_low += sum_low\n",
    "    sum_high = 0\n",
    "    for high_key_j in high_diff:\n",
    "        if high_key_i != high_key_j:\n",
    "            sum_high += (measure_sbj_dict[high_key_i][high_key_j][1] + measure_sbj_dict[high_key_i][high_key_j][2]) / (len(2*high_diff) -2 )\n",
    "    print(\"high:\", low_key_i, sum_high)\n",
    "    high_high_dict[high_key_i] = sum_high\n",
    "\n",
    "    high_low_dict[high_key_i] = sum_low\n",
    "    sum_all_high += sum_high\n",
    "    print(\"\\n\")    \n",
    "print(\"AVG LOW:\", sum_all_low/len(high_diff))\n",
    "print(\"AVG HIGH:\", sum_all_high/len(high_diff))"
   ]
  },
  {
   "cell_type": "code",
   "execution_count": 15,
   "id": "30a54ca0-3751-4609-82e1-1268d7a0d00b",
   "metadata": {
    "jupyter": {
     "source_hidden": true
    },
    "tags": []
   },
   "outputs": [
    {
     "name": "stdout",
     "output_type": "stream",
     "text": [
      "FOR HIGH, time step 1:\n",
      "\n",
      "low: HPSI0114i-eipl_1 0.5938164428020497\n",
      "high: HPSI0114i-eipl_1 0.6707687685224859\n",
      "\n",
      "\n",
      "low: HPSI0114i-eipl_1 0.6625415019087345\n",
      "high: HPSI0114i-eipl_1 0.6928016599134373\n",
      "\n",
      "\n",
      "low: HPSI0114i-eipl_1 0.6420917897181351\n",
      "high: HPSI0114i-eipl_1 0.6883298387762726\n",
      "\n",
      "\n",
      "AVG LOW: 0.6328165781429731\n",
      "AVG HIGH: 0.6839667557373987\n"
     ]
    }
   ],
   "source": [
    "print(\"FOR HIGH, time step 1:\\n\")\n",
    "sum_all_high = 0\n",
    "sum_all_low = 0\n",
    "for high_key_i in high_diff:\n",
    "    sum_low = 0\n",
    "    for low_key_j in low_diff:\n",
    "        sum_low += (measure_sbj_dict[high_key_i][low_key_j][1]) / len(low_diff)  \n",
    "    print(\"low:\", low_key_i, sum_low)\n",
    "    sum_all_low += sum_low\n",
    "    sum_high = 0\n",
    "    for high_key_j in high_diff:\n",
    "        if high_key_i != high_key_j:\n",
    "            sum_high += (measure_sbj_dict[high_key_i][high_key_j][1]) / (len(high_diff)-1)\n",
    "    print(\"high:\", low_key_i, sum_high)\n",
    "    sum_all_high += sum_high\n",
    "    print(\"\\n\")\n",
    "print(\"AVG LOW:\", sum_all_low/len(high_diff))\n",
    "print(\"AVG HIGH:\", sum_all_high/len(high_diff))"
   ]
  },
  {
   "cell_type": "code",
   "execution_count": 16,
   "id": "635831c1-dab1-42a7-9c4c-70b9e450da53",
   "metadata": {
    "jupyter": {
     "source_hidden": true
    },
    "tags": []
   },
   "outputs": [
    {
     "name": "stdout",
     "output_type": "stream",
     "text": [
      "FOR HIGH, time step 2:\n",
      "\n",
      "low: HPSI0715i-aowh_2 0.6189619738265155\n",
      "high: HPSI0715i-aowh_2 0.7307185853482145\n",
      "\n",
      "\n",
      "low: HPSI1013i-hiaf_1 0.572682226486701\n",
      "high: HPSI1013i-hiaf_1 0.6621138831645684\n",
      "\n",
      "\n",
      "low: HPSI0115i-aoxv_1 0.6267583954904214\n",
      "high: HPSI0115i-aoxv_1 0.735237106947416\n",
      "\n",
      "\n",
      "AVG LOW: 0.6061341986012126\n",
      "AVG HIGH: 0.7093565251533996\n"
     ]
    }
   ],
   "source": [
    "print(\"FOR HIGH, time step 2:\\n\")\n",
    "sum_all_high = 0\n",
    "sum_all_low = 0\n",
    "for high_key_i in high_diff:\n",
    "    sum_low = 0\n",
    "    for low_key_j in low_diff:\n",
    "        sum_low += (measure_sbj_dict[high_key_i][low_key_j][2]) / len(low_diff)  \n",
    "    print(\"low:\", high_key_i, sum_low)\n",
    "    sum_all_low += sum_low\n",
    "    sum_high = 0\n",
    "    for high_key_j in high_diff:\n",
    "        if high_key_i != high_key_j:\n",
    "            sum_high += (measure_sbj_dict[high_key_i][high_key_j][2]) / (len(high_diff)-1)\n",
    "    print(\"high:\", high_key_i, sum_high)\n",
    "    sum_all_high += sum_high\n",
    "    print(\"\\n\")\n",
    "print(\"AVG LOW:\", sum_all_low/len(high_diff))\n",
    "print(\"AVG HIGH:\", sum_all_high/len(high_diff))"
   ]
  },
  {
   "cell_type": "code",
   "execution_count": 17,
   "id": "7e795474-84ff-4963-9d91-a132d0973f0e",
   "metadata": {},
   "outputs": [
    {
     "data": {
      "text/plain": [
       "{'HPSI0115i-aoxv_1': {1: 0.6166291770955523, 2: 0.5208979380850871},\n",
       " 'HPSI0115i-timk_4': {1: 0.7979764238642169, 2: 0.6408009614313117},\n",
       " 'HPSI0414i-mita_1': {1: 0.7145422931919179, 2: 0.6087982536200944},\n",
       " 'HPSI0514i-fiaj_1': {1: 0.6897883271957128, 2: 0.7578212704469699},\n",
       " 'HPSI0714i-keui_4': {1: 0.677464233821075, 2: 0.6461994105055564},\n",
       " 'HPSI0715i-aowh_2': {1: 0.5564691654654516, 2: 0.5322263366512398},\n",
       " 'HPSI1013i-hiaf_1': {1: 0.6532291026277554, 2: 0.5304391507748405}}"
      ]
     },
     "execution_count": 17,
     "metadata": {},
     "output_type": "execute_result"
    }
   ],
   "source": [
    "measure_sbj_dict[\"HPSI0114i-eipl_1\"]"
   ]
  },
  {
   "cell_type": "code",
   "execution_count": 18,
   "id": "fbfe3916-a139-4948-994b-e012be4f8559",
   "metadata": {},
   "outputs": [
    {
     "data": {
      "text/plain": [
       "{'HPSI0114i-eipl_1': {1: 4.706098723261682, 2: 4.2371833215151},\n",
       " 'HPSI0115i-aoxv_1': {1: 4.701767527735956, 2: 4.767027334515065},\n",
       " 'HPSI0115i-timk_4': {1: 5.392921327467452, 2: 4.823765381042929},\n",
       " 'HPSI0414i-mita_1': {1: 5.494133712854343, 2: 4.957690145795134},\n",
       " 'HPSI0514i-fiaj_1': {1: 4.769834836865029, 2: 5.137960404366291},\n",
       " 'HPSI0714i-keui_4': {1: 4.637211937841468, 2: 4.850977952153395},\n",
       " 'HPSI0715i-aowh_2': {1: 4.475701906570575, 2: 4.706189955058958},\n",
       " 'HPSI1013i-hiaf_1': {1: 4.9521083224603, 2: 4.304233976444202}}"
      ]
     },
     "execution_count": 18,
     "metadata": {},
     "output_type": "execute_result"
    }
   ],
   "source": [
    "sum_measure_dict = {}\n",
    "all_sum1 = 0\n",
    "all_sum2 = 0\n",
    "for key, values in measure_sbj_dict.items():\n",
    "    sum1 = 0\n",
    "    sum2 = 0\n",
    "    for val in values.values():\n",
    "        sum1 += val[1]\n",
    "        sum2 += val[2]\n",
    "    all_sum1 += sum1\n",
    "    all_sum2 += sum2\n",
    "    sum_measure_dict[key] = {1: sum1, 2:sum2}    \n",
    "sum_measure_dict"
   ]
  },
  {
   "cell_type": "code",
   "execution_count": 19,
   "id": "10fbdc24-ec38-4478-b86e-05a9a4b3b3af",
   "metadata": {},
   "outputs": [
    {
     "data": {
      "text/plain": [
       "0.6867393461245346"
      ]
     },
     "execution_count": 19,
     "metadata": {},
     "output_type": "execute_result"
    }
   ],
   "source": [
    "(all_sum1+all_sum2)/(2*(pred_communities.shape[0]*(pred_communities.shape[0]-1)))"
   ]
  },
  {
   "cell_type": "raw",
   "id": "8e754559-52e1-4ab6-ae95-7fdc0d817f98",
   "metadata": {},
   "source": [
    "sns.set(rc={'figure.figsize':(20,20)})\n",
    "ax.set_title(f'Between {msdyn_nw_details[\"donor_indices\"][donor_idx_keys[-1]]} and {msdyn_nw_details[\"donor_indices\"][donor_idx_keys[0]]} time step 1')\n",
    "sns.heatmap(confusion_matrix(pred_communities[-1,0,:],pred_communities[0,0,:], normalize=\"all\"), annot=True, ax=ax)"
   ]
  },
  {
   "cell_type": "code",
   "execution_count": 20,
   "id": "e4a587aa-4939-4d6b-a84d-e3e6d3051063",
   "metadata": {},
   "outputs": [
    {
     "data": {
      "text/plain": [
       "{'HPSI0714i-keui_4': 0.6117928076801781,\n",
       " 'HPSI0514i-fiaj_1': 0.6312742735440886,\n",
       " 'HPSI0115i-timk_4': 0.6665193271474503,\n",
       " 'HPSI0114i-eipl_1': 0.5683151451166544}"
      ]
     },
     "execution_count": 20,
     "metadata": {},
     "output_type": "execute_result"
    }
   ],
   "source": [
    "high_high_dict\n",
    "high_low_dict\n",
    "low_low_dict\n",
    "low_high_dict"
   ]
  },
  {
   "cell_type": "code",
   "execution_count": 21,
   "id": "956dea0c-8cb8-4c4c-9334-4edb2d17e5d1",
   "metadata": {},
   "outputs": [
    {
     "data": {
      "text/plain": [
       "{'HPSI0714i-keui_4': 0.7320587888416253,\n",
       " 'HPSI0514i-fiaj_1': 0.7779282986256918,\n",
       " 'HPSI0115i-timk_4': 0.7744045948958217,\n",
       " 'HPSI0114i-eipl_1': 0.7016751045441405}"
      ]
     },
     "execution_count": 21,
     "metadata": {},
     "output_type": "execute_result"
    }
   ],
   "source": [
    "low_low_dict"
   ]
  },
  {
   "cell_type": "code",
   "execution_count": 22,
   "id": "01ca55e3-f5c3-4d9d-b22d-874543287517",
   "metadata": {},
   "outputs": [
    {
     "data": {
      "text/plain": [
       "{'HPSI0715i-aowh_2': 0.6063892083142827,\n",
       " 'HPSI1013i-hiaf_1': 0.6176118641977177,\n",
       " 'HPSI0115i-aoxv_1': 0.6344250926042783}"
      ]
     },
     "execution_count": 22,
     "metadata": {},
     "output_type": "execute_result"
    }
   ],
   "source": [
    "high_low_dict"
   ]
  },
  {
   "cell_type": "code",
   "execution_count": 23,
   "id": "f985fd6d-f740-48a2-976f-b452b9e31280",
   "metadata": {},
   "outputs": [
    {
     "data": {
      "text/plain": [
       "{'HPSI0715i-aowh_2': 0.7007436769353502,\n",
       " 'HPSI1013i-hiaf_1': 0.6774577715390029,\n",
       " 'HPSI0115i-aoxv_1': 0.7117834728618443}"
      ]
     },
     "execution_count": 23,
     "metadata": {},
     "output_type": "execute_result"
    }
   ],
   "source": [
    "high_high_dict"
   ]
  },
  {
   "cell_type": "code",
   "execution_count": 24,
   "id": "bd728f36-8433-4627-a433-08d0cfac614e",
   "metadata": {},
   "outputs": [],
   "source": [
    "import numpy as np\n",
    "import pandas as pd"
   ]
  },
  {
   "cell_type": "code",
   "execution_count": 25,
   "id": "39bc0ad9-31e2-412a-96ca-529d4de71e38",
   "metadata": {},
   "outputs": [],
   "source": [
    "all_values = {\"name\":[], \"type\":[], \"val\":[]}\n",
    "for name, val in high_low_dict.items():\n",
    "    all_values[\"name\"].append( name)\n",
    "    all_values[\"type\"].append(\"high_to_low\")\n",
    "    all_values[\"val\"].append(val) \n",
    "for name, val in low_high_dict.items():\n",
    "    all_values[\"name\"].append(name)\n",
    "    all_values[\"type\"].append(\"high_to_low\")\n",
    "    all_values[\"val\"].append(val)\n",
    "for name, val in low_low_dict.items():\n",
    "    all_values[\"name\"].append(name)\n",
    "    all_values[\"type\"].append(\"low_to_low\")\n",
    "    all_values[\"val\"].append(val)\n",
    "for name, val in high_high_dict.items():\n",
    "    all_values[\"name\"].append(name)\n",
    "    all_values[\"type\"].append(\"high_to_high\")\n",
    "    all_values[\"val\"].append(val)\n"
   ]
  },
  {
   "cell_type": "code",
   "execution_count": 26,
   "id": "450d6460-d62b-403e-b9d7-09f87d0fbc57",
   "metadata": {},
   "outputs": [
    {
     "data": {
      "text/plain": [
       "{'name': ['HPSI0715i-aowh_2',\n",
       "  'HPSI1013i-hiaf_1',\n",
       "  'HPSI0115i-aoxv_1',\n",
       "  'HPSI0714i-keui_4',\n",
       "  'HPSI0514i-fiaj_1',\n",
       "  'HPSI0115i-timk_4',\n",
       "  'HPSI0114i-eipl_1',\n",
       "  'HPSI0714i-keui_4',\n",
       "  'HPSI0514i-fiaj_1',\n",
       "  'HPSI0115i-timk_4',\n",
       "  'HPSI0114i-eipl_1',\n",
       "  'HPSI0715i-aowh_2',\n",
       "  'HPSI1013i-hiaf_1',\n",
       "  'HPSI0115i-aoxv_1'],\n",
       " 'type': ['high_to_low',\n",
       "  'high_to_low',\n",
       "  'high_to_low',\n",
       "  'high_to_low',\n",
       "  'high_to_low',\n",
       "  'high_to_low',\n",
       "  'high_to_low',\n",
       "  'low_to_low',\n",
       "  'low_to_low',\n",
       "  'low_to_low',\n",
       "  'low_to_low',\n",
       "  'high_to_high',\n",
       "  'high_to_high',\n",
       "  'high_to_high'],\n",
       " 'val': [0.6063892083142827,\n",
       "  0.6176118641977177,\n",
       "  0.6344250926042783,\n",
       "  0.6117928076801781,\n",
       "  0.6312742735440886,\n",
       "  0.6665193271474503,\n",
       "  0.5683151451166544,\n",
       "  0.7320587888416253,\n",
       "  0.7779282986256918,\n",
       "  0.7744045948958217,\n",
       "  0.7016751045441405,\n",
       "  0.7007436769353502,\n",
       "  0.6774577715390029,\n",
       "  0.7117834728618443]}"
      ]
     },
     "execution_count": 26,
     "metadata": {},
     "output_type": "execute_result"
    }
   ],
   "source": [
    "all_values"
   ]
  },
  {
   "cell_type": "code",
   "execution_count": 27,
   "id": "cd5a9d53-50a2-47c4-a16b-6bdb3aaa32c8",
   "metadata": {},
   "outputs": [],
   "source": [
    "all_val = pd.DataFrame.from_dict(all_values)"
   ]
  },
  {
   "cell_type": "code",
   "execution_count": 28,
   "id": "559a0d8e-9839-4ad2-845d-91184bd77c82",
   "metadata": {},
   "outputs": [],
   "source": [
    "me_val = all_val.groupby(by=[\"type\"])[\"val\"].median().iloc[::-1]\n",
    "order = pd.Index(['low_to_low', 'high_to_high', 'high_to_low'], dtype='object', name='type')"
   ]
  },
  {
   "cell_type": "code",
   "execution_count": 29,
   "id": "b74c974b-1d26-469c-a2ad-03b0b890a1f5",
   "metadata": {},
   "outputs": [
    {
     "data": {
      "text/plain": [
       "type\n",
       "low_to_low      0.753232\n",
       "high_to_low     0.617612\n",
       "high_to_high    0.700744\n",
       "Name: val, dtype: float64"
      ]
     },
     "execution_count": 29,
     "metadata": {},
     "output_type": "execute_result"
    }
   ],
   "source": [
    "me_val"
   ]
  },
  {
   "cell_type": "code",
   "execution_count": 30,
   "id": "4a10cbcb-e0c8-44d2-896c-ed61f642d303",
   "metadata": {},
   "outputs": [
    {
     "data": {
      "image/png": "[encoded data removed]",
      "text/plain": [
       "<Figure size 504x504 with 1 Axes>"
      ]
     },
     "metadata": {
      "needs_background": "light"
     },
     "output_type": "display_data"
    }
   ],
   "source": [
    "fig, ax = plt.subplots(figsize=(7,7))\n",
    "ax = sns.boxplot(x=\"type\", y=\"val\", data=all_val, ax=ax, order=order)\n",
    "ax = sns.swarmplot(x=\"type\", y=\"val\", data=all_val, color=\".25\", ax=ax, size=10, order=order)"
   ]
  },
  {
   "cell_type": "code",
   "execution_count": 31,
   "id": "d3bf9ec6-d124-4c96-af26-1b6781eb1760",
   "metadata": {},
   "outputs": [
    {
     "name": "stdout",
     "output_type": "stream",
     "text": [
      "% This file was created by tikzplotlib v0.9.8.\n",
      "\\begin{tikzpicture}\n",
      "\n",
      "\\definecolor{color0}{rgb}{0.194607843137255,0.453431372549019,0.632843137254902}\n",
      "\\definecolor{color1}{rgb}{0.881862745098039,0.505392156862745,0.173039215686275}\n",
      "\\definecolor{color2}{rgb}{0.229411764705882,0.570588235294118,0.229411764705882}\n",
      "\n",
      "\\begin{axis}[\n",
      "tick align=outside,\n",
      "tick pos=left,\n",
      "x grid style={white!69.0196078431373!black},\n",
      "xlabel={type},\n",
      "xmin=-0.5, xmax=2.5,\n",
      "xtick style={color=black},\n",
      "xtick={0,1,2},\n",
      "xticklabels={low\\_to\\_low,high\\_to\\_high,high\\_to\\_low},\n",
      "y grid style={white!69.0196078431373!black},\n",
      "ylabel={val},\n",
      "ymin=0.557834487441202, ymax=0.788408956301144,\n",
      "ytick style={color=black},\n",
      "ytick={0.55,0.6,0.65,0.7,0.75,0.8},\n",
      "yticklabels={0.55,0.60,0.65,0.70,0.75,0.80}\n",
      "]\n",
      "\\path [draw=white!23.921568627451!black, fill=color0, semithick]\n",
      "(axis cs:-0.4,0.724462867767254)\n",
      "--(axis cs:0.4,0.724462867767254)\n",
      "--(axis cs:0.4,0.775285520828289)\n",
      "--(axis cs:-0.4,0.775285520828289)\n",
      "--(axis cs:-0.4,0.724462867767254)\n",
      "--cycle;\n",
      "\\path [draw=white!23.921568627451!black, fill=color1, semithick]\n",
      "(axis cs:0.6,0.689100724237176)\n",
      "--(axis cs:1.4,0.689100724237176)\n",
      "--(axis cs:1.4,0.706263574898597)\n",
      "--(axis cs:0.6,0.706263574898597)\n",
      "--(axis cs:0.6,0.689100724237176)\n",
      "--cycle;\n",
      "\\path [draw=white!23.921568627451!black, fill=color2, semithick]\n",
      "(axis cs:1.6,0.60909100799723)\n",
      "--(axis cs:2.4,0.60909100799723)\n",
      "--(axis cs:2.4,0.632849683074183)\n",
      "--(axis cs:1.6,0.632849683074183)\n",
      "--(axis cs:1.6,0.60909100799723)\n",
      "--cycle;\n",
      "\\addplot [semithick, white!23.921568627451!black]\n",
      "table {%\n",
      "0 0.724462867767254\n",
      "0 0.701675104544141\n",
      "};\n",
      "\\addplot [semithick, white!23.921568627451!black]\n",
      "table {%\n",
      "0 0.775285520828289\n",
      "0 0.777928298625692\n",
      "};\n",
      "\\addplot [semithick, white!23.921568627451!black]\n",
      "table {%\n",
      "-0.2 0.701675104544141\n",
      "0.2 0.701675104544141\n",
      "};\n",
      "\\addplot [semithick, white!23.921568627451!black]\n",
      "table {%\n",
      "-0.2 0.777928298625692\n",
      "0.2 0.777928298625692\n",
      "};\n",
      "\\addplot [semithick, white!23.921568627451!black]\n",
      "table {%\n",
      "1 0.689100724237176\n",
      "1 0.677457771539003\n",
      "};\n",
      "\\addplot [semithick, white!23.921568627451!black]\n",
      "table {%\n",
      "1 0.706263574898597\n",
      "1 0.711783472861844\n",
      "};\n",
      "\\addplot [semithick, white!23.921568627451!black]\n",
      "table {%\n",
      "0.8 0.677457771539003\n",
      "1.2 0.677457771539003\n",
      "};\n",
      "\\addplot [semithick, white!23.921568627451!black]\n",
      "table {%\n",
      "0.8 0.711783472861844\n",
      "1.2 0.711783472861844\n",
      "};\n",
      "\\addplot [semithick, white!23.921568627451!black]\n",
      "table {%\n",
      "2 0.60909100799723\n",
      "2 0.606389208314283\n",
      "};\n",
      "\\addplot [semithick, white!23.921568627451!black]\n",
      "table {%\n",
      "2 0.632849683074183\n",
      "2 0.66651932714745\n",
      "};\n",
      "\\addplot [semithick, white!23.921568627451!black]\n",
      "table {%\n",
      "1.8 0.606389208314283\n",
      "2.2 0.606389208314283\n",
      "};\n",
      "\\addplot [semithick, white!23.921568627451!black]\n",
      "table {%\n",
      "1.8 0.66651932714745\n",
      "2.2 0.66651932714745\n",
      "};\n",
      "\\addplot [black, mark=diamond*, mark size=2.5, mark options={solid,fill=white!23.921568627451!black}, only marks]\n",
      "table {%\n",
      "2 0.568315145116654\n",
      "};\n",
      "\\addplot [semithick, white!23.921568627451!black]\n",
      "table {%\n",
      "-0.4 0.753231691868724\n",
      "0.4 0.753231691868724\n",
      "};\n",
      "\\addplot [semithick, white!23.921568627451!black]\n",
      "table {%\n",
      "0.6 0.70074367693535\n",
      "1.4 0.70074367693535\n",
      "};\n",
      "\\addplot [semithick, white!23.921568627451!black]\n",
      "table {%\n",
      "1.6 0.617611864197718\n",
      "2.4 0.617611864197718\n",
      "};\n",
      "\\addplot [\n",
      "  draw=white!14.9019607843137!black,\n",
      "  mark=*,\n",
      "  only marks,\n",
      "  scatter,\n",
      "  scatter/@post marker code/.code={%\n",
      "  \\endscope\n",
      "},\n",
      "  scatter/@pre marker code/.code={%\n",
      "  \\expanded{%\n",
      "  \\noexpand\\definecolor{thispointdrawcolor}{RGB}{\\drawcolor}%\n",
      "  \\noexpand\\definecolor{thispointfillcolor}{RGB}{\\fillcolor}%\n",
      "  }%\n",
      "  \\scope[draw=thispointdrawcolor, fill=thispointfillcolor]%\n",
      "},\n",
      "  visualization depends on={value \\thisrow{draw} \\as \\drawcolor},\n",
      "  visualization depends on={value \\thisrow{fill} \\as \\fillcolor}\n",
      "]\n",
      "table{%\n",
      "x  y  fill\n",
      "-1.11022302462516e-16 0.701675104544141 63.75,63.75,63.75\n",
      "-1.11022302462516e-16 0.732058788841625 63.75,63.75,63.75\n",
      "-1.11022302462516e-16 0.774404594895822 63.75,63.75,63.75\n",
      "-0.0656073507051037 0.777928298625692 63.75,63.75,63.75\n",
      "};\n",
      "\\addplot [\n",
      "  draw=white!14.9019607843137!black,\n",
      "  mark=*,\n",
      "  only marks,\n",
      "  scatter,\n",
      "  scatter/@post marker code/.code={%\n",
      "  \\endscope\n",
      "},\n",
      "  scatter/@pre marker code/.code={%\n",
      "  \\expanded{%\n",
      "  \\noexpand\\definecolor{thispointdrawcolor}{RGB}{\\drawcolor}%\n",
      "  \\noexpand\\definecolor{thispointfillcolor}{RGB}{\\fillcolor}%\n",
      "  }%\n",
      "  \\scope[draw=thispointdrawcolor, fill=thispointfillcolor]%\n",
      "},\n",
      "  visualization depends on={value \\thisrow{draw} \\as \\drawcolor},\n",
      "  visualization depends on={value \\thisrow{fill} \\as \\fillcolor}\n",
      "]\n",
      "table{%\n",
      "x  y  fill\n",
      "1 0.677457771539003 63.75,63.75,63.75\n",
      "1 0.70074367693535 63.75,63.75,63.75\n",
      "1 0.711783472861844 63.75,63.75,63.75\n",
      "};\n",
      "\\addplot [\n",
      "  draw=white!14.9019607843137!black,\n",
      "  mark=*,\n",
      "  only marks,\n",
      "  scatter,\n",
      "  scatter/@post marker code/.code={%\n",
      "  \\endscope\n",
      "},\n",
      "  scatter/@pre marker code/.code={%\n",
      "  \\expanded{%\n",
      "  \\noexpand\\definecolor{thispointdrawcolor}{RGB}{\\drawcolor}%\n",
      "  \\noexpand\\definecolor{thispointfillcolor}{RGB}{\\fillcolor}%\n",
      "  }%\n",
      "  \\scope[draw=thispointdrawcolor, fill=thispointfillcolor]%\n",
      "},\n",
      "  visualization depends on={value \\thisrow{draw} \\as \\drawcolor},\n",
      "  visualization depends on={value \\thisrow{fill} \\as \\fillcolor}\n",
      "]\n",
      "table{%\n",
      "x  y  fill\n",
      "2 0.568315145116654 63.75,63.75,63.75\n",
      "2 0.606389208314283 63.75,63.75,63.75\n",
      "1.96350782985722 0.611792807680178 63.75,63.75,63.75\n",
      "2 0.617611864197718 63.75,63.75,63.75\n",
      "2 0.631274273544088 63.75,63.75,63.75\n",
      "1.93111482425102 0.634425092604278 63.75,63.75,63.75\n",
      "2 0.66651932714745 63.75,63.75,63.75\n",
      "};\n",
      "\\end{axis}\n",
      "\n",
      "\\end{tikzpicture}\n",
      "\n"
     ]
    },
    {
     "data": {
      "text/plain": [
       "<Figure size 432x288 with 0 Axes>"
      ]
     },
     "metadata": {},
     "output_type": "display_data"
    }
   ],
   "source": [
    "import tikzplotlib\n",
    "tikzplotlib.clean_figure()\n",
    "print(tikzplotlib.get_tikz_code(figure=fig))"
   ]
  },
  {
   "cell_type": "code",
   "execution_count": null,
   "id": "3df1cfc9-f59c-431c-93eb-a8e7e5bc9a44",
   "metadata": {},
   "outputs": [],
   "source": []
  }
 ],
 "metadata": {
  "kernelspec": {
   "display_name": "Python 3",
   "language": "python",
   "name": "python3"
  },
  "language_info": {
   "codemirror_mode": {
    "name": "ipython",
    "version": 3
   },
   "file_extension": ".py",
   "mimetype": "text/x-python",
   "name": "python",
   "nbconvert_exporter": "python",
   "pygments_lexer": "ipython3",
   "version": "3.7.9"
  }
 },
 "nbformat": 4,
 "nbformat_minor": 5
}
